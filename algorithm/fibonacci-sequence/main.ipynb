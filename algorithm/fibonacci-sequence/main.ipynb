{
 "cells": [
  {
   "cell_type": "markdown",
   "source": [
    "# Fibonacci sequence\n",
    "\n",
    "$$F_0 = 0, F_1 = 1, F_{n+2} = F_{n+1} + F_n$$\n",
    "\n",
    "---\n",
    "\n",
    "$$\n",
    "F_n = {{1}\\over \\sqrt{5}} \\bigg\\{ \\bigg( {{1+\\sqrt{5}}\\over{2}}\\bigg)^n - \\bigg({{1-\\sqrt{5}}\\over{2}} \\bigg)^n \\bigg\\}\n",
    "\\\\\n",
    "= { {{(1 + \\sqrt{5})^n} - (1 - \\sqrt{5})^n } \\over 2^n \\sqrt{5} }\n",
    "\\\\\n",
    "= { {1 \\over \\sqrt{2}^{n-1}} \\sum^{\\lfloor(n+1)/2\\rfloor}_{i=1}{\n",
    "    \\begin{pmatrix}\n",
    "    n \\\\\n",
    "    2i-1\n",
    "    \\end{pmatrix}^{5^{i-1}}\n",
    "}}\n",
    "$$\n"
   ],
   "metadata": {
    "collapsed": false
   }
  },
  {
   "cell_type": "markdown",
   "source": [
    "## Why √5 ?\n",
    "\n",
    "수열의 수들을 하나씩 써보면 아래와 같다:\n",
    "\n",
    "$$\n",
    "F_0 = 0, F_1 = 1, F_2 = 1, 2, 3, 5, 8, 13, 21, 34, 55, 89, 144, 233, 377\n",
    "$$\n",
    "\n",
    "이제 앞의 수로 뒤의 수를 나누어보자. (0은 제외한다.)\n",
    "\n",
    "$$\n",
    "{1 \\over 1} = 1 ,\\quad {1 \\over 2} = 2 ,\\quad {2 \\over 3} = 1.5 \\\\\n",
    "{3 \\over 5} = 1.667 ,\\quad {8 \\over 13} = 1.625 ,\\quad {13 \\over 21} = 1.61538 \\\\\n",
    "{21 \\over 34} = 1.619047 ,\\quad {34 \\over 55} = 1.61765 ,\\quad {55 \\over 89} = 1.61818\n",
    "$$\n",
    "\n",
    "이 수들은 점점 *1.618*..에 근접하는 것을 볼 수 있다."
   ],
   "metadata": {
    "collapsed": false
   }
  },
  {
   "cell_type": "code",
   "execution_count": 19,
   "outputs": [
    {
     "name": "stdout",
     "output_type": "stream",
     "text": [
      "1 / 1\t\t=\t1.0\n",
      "1 / 2\t\t=\t2.0\n",
      "2 / 3\t\t=\t1.5\n",
      "3 / 5\t\t=\t1.666666\n",
      "5 / 8\t\t=\t1.6\n",
      "8 / 13\t\t=\t1.625\n",
      "13 / 21\t\t=\t1.615384\n",
      "21 / 34\t\t=\t1.619047\n",
      "34 / 55\t\t=\t1.617647\n",
      "55 / 89\t\t=\t1.618181\n",
      "89 / 144\t\t=\t1.617977\n",
      "144 / 233\t\t=\t1.618055\n",
      "233 / 377\t\t=\t1.618025\n"
     ]
    }
   ],
   "source": [
    "FLOAT_LOC = 10 ** 6\n",
    "fibo_seq = [0, 1, 1, 2, 3, 5, 8, 13, 21, 34, 55, 89, 144, 233, 377]\n",
    "# we do not use 0\n",
    "fibo_seq.remove(0)\n",
    "\n",
    "for i in range(len(fibo_seq) - 1):\n",
    "    print(f\"{fibo_seq[i]} / {fibo_seq[i+1]}\\t\\t=\\t{int(fibo_seq[i+1]/fibo_seq[i] * FLOAT_LOC) / FLOAT_LOC}\")"
   ],
   "metadata": {
    "collapsed": false,
    "pycharm": {
     "name": "#%%\n"
    }
   }
  },
  {
   "cell_type": "markdown",
   "source": [],
   "metadata": {
    "collapsed": false
   }
  },
  {
   "cell_type": "code",
   "execution_count": 23,
   "outputs": [
    {
     "name": "stdout",
     "output_type": "stream",
     "text": [
      "232.99200000000002\n"
     ]
    }
   ],
   "source": [
    "print(144 * 1.618)"
   ],
   "metadata": {
    "collapsed": false,
    "pycharm": {
     "name": "#%%\n"
    }
   }
  },
  {
   "cell_type": "markdown",
   "source": [
    "정확히 같지는 않지만, 유사한 수치를 얻을 수 있다.\n",
    "반대의 경우도 존재한다. *0.618*을 곱해보자."
   ],
   "metadata": {
    "collapsed": false
   }
  },
  {
   "cell_type": "code",
   "execution_count": 22,
   "outputs": [
    {
     "name": "stdout",
     "output_type": "stream",
     "text": [
      "143.994\n"
     ]
    }
   ],
   "source": [
    "print(233 * 0.618)"
   ],
   "metadata": {
    "collapsed": false,
    "pycharm": {
     "name": "#%%\n"
    }
   }
  },
  {
   "cell_type": "markdown",
   "source": [
    "이 수들은 어떻게 얻을 수 있을까? 아래의 수식을 연산해보자.\n",
    "\n",
    "$$\n",
    "{A} = {{\\sqrt{5} + 1} \\over 2} \\quad {B} = {{\\sqrt{5} - 1} \\over 2}\n",
    "$$\n",
    "\n",
    "> 이 수치를 황금비(golden ratio)라고 부른다."
   ],
   "metadata": {
    "collapsed": false
   }
  },
  {
   "cell_type": "code",
   "execution_count": 25,
   "outputs": [
    {
     "name": "stdout",
     "output_type": "stream",
     "text": [
      "A = 1.618033988749895\n",
      "B = 0.6180339887498949\n"
     ]
    }
   ],
   "source": [
    "import math\n",
    "\n",
    "print(f\"A = {(math.sqrt(5) + 1) / 2}\")\n",
    "print(f\"B = {(math.sqrt(5) - 1) / 2}\")"
   ],
   "metadata": {
    "collapsed": false,
    "pycharm": {
     "name": "#%%\n"
    }
   }
  },
  {
   "cell_type": "markdown",
   "source": [
    "$$\n",
    "F_{20} \\approx F_{12}\\bigg({{\\sqrt{5} + 1 }\\over {2}}\\bigg)^8 \\approx {6765}\n",
    "$$"
   ],
   "metadata": {
    "collapsed": false
   }
  },
  {
   "cell_type": "markdown",
   "source": [
    "## References\n",
    "\n",
    "- [Mathematics - Fibonacci Sequence and the Golden Ratio](https://www.youtube.com/watch?v=mVO2dcuR7P0)"
   ],
   "metadata": {
    "collapsed": false,
    "pycharm": {
     "name": "#%% md\n"
    }
   }
  }
 ],
 "metadata": {
  "kernelspec": {
   "display_name": "Python 3",
   "language": "python",
   "name": "python3"
  },
  "language_info": {
   "codemirror_mode": {
    "name": "ipython",
    "version": 2
   },
   "file_extension": ".py",
   "mimetype": "text/x-python",
   "name": "python",
   "nbconvert_exporter": "python",
   "pygments_lexer": "ipython2",
   "version": "2.7.6"
  }
 },
 "nbformat": 4,
 "nbformat_minor": 0
}