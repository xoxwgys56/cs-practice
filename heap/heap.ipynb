{
 "cells": [
  {
   "cell_type": "markdown",
   "metadata": {},
   "source": [
    "# heap\n",
    "\n",
    "아래 글은 [이진 힙](https://ko.wikipedia.org/wiki/%ED%9E%99_(%EC%9E%90%EB%A3%8C_%EA%B5%AC%EC%A1%B0)#%EC%9D%B4%EC%A7%84_%ED%9E%99)을 전제로 작성되었다.  \n",
    "그러므로, 당연히 이진트리를 전제로 하고 있다. 이진트리의 모습은 아래와 같다:  "
   ]
  },
  {
   "cell_type": "code",
   "execution_count": 22,
   "metadata": {},
   "outputs": [
    {
     "name": "stdout",
     "output_type": "stream",
     "text": [
      "\n",
      "         ___2__\n",
      "        /      \\\n",
      "    ___4        3\n",
      "   /    \\      / \\\n",
      "  5      13   7   12\n",
      " / \\\n",
      "9   14\n",
      "\n"
     ]
    }
   ],
   "source": [
    "from binarytree import heap\n",
    "\n",
    "# 매번 실행마다 다른 heap을 생성해준다.\n",
    "is_max_heap=False\n",
    "print(heap(height=3, is_max=is_max_heap))"
   ]
  },
  {
   "cell_type": "markdown",
   "metadata": {},
   "source": [
    "## 높이(깊이)에 대한 관점\n",
    "\n",
    "> 안읽어도 됨.\n",
    "\n",
    "### 예시 *heap*\n",
    "\n",
    "```plain\n",
    "        ______14__\n",
    "       /          \\\n",
    "    __11__         9\n",
    "   /      \\       / \\\n",
    "  8        10    2   3\n",
    " / \\      /\n",
    "6   4    0\n",
    "```\n",
    "\n",
    "### 어느 관점에서 높이를 볼 것인가\n",
    "\n",
    "*heap*의 노드 수는 트리의 높이(깊이)를 보는 관점에 따라 다르게 작성될 수 있다.  \n",
    "그것은 단순히 관점의 차이이다. 위의 코드에서 출력된 *heap* tree를 보자.  \n",
    "\n",
    "`Node(14)`은 루트(최상단)에 위치하고 있다. 또한 그 아래에 `Node(11)`가 위치하고 있다.  \n",
    "2개의 노드의 거리를 1이라고 하자. 그렇다면, `Node(14)`의 기준에서 `Node(11)`은 1의 거리에 있다.  \n",
    "여기서 언급한 거리는 동시에 높이이기도 하다.  \n",
    "\n",
    "그렇다면, `Node(14)`의 기준에서 `Node(11)`까지 높이는 1이다. 마찬가지로 `Node(8)`까지의 높이는 2이다.  \n",
    "그렇다면 `Node(6)`까지의 높이는 3인가? 이것은 루트의 위치를 0으로 생각한 관점이다.  \n",
    "만약 루트가 1개만 존재한다면 높이는 0이 되는가? 혹은 루트가 존재하기 때문에 1개의 노드는 1의 높이를 가졌다고 할 수 있는가?  \n",
    "\n",
    "이 글에서는 관점에 따라 높이가 다르다고 판단하여, 2개의 관점을 모두 갖고 글을 진행할 것이다.\n",
    "\n",
    "> 여기서 사용한 라이브러리는 매개변수에서 알 수 있듯이, 높이를 3으로 보고 있다. 루트노드만 있는 경우 높이가 0이 되는 것이다."
   ]
  },
  {
   "cell_type": "markdown",
   "metadata": {},
   "source": [
    "## Time complexity\n",
    "\n",
    "### Node count\n",
    "\n",
    "위에서 예시로 든 *heap*을 기준으로\n",
    "\n",
    "높이가 3이라면\n",
    "\n",
    "$${N} = {2}^{h-1} + 1$$\n",
    "\n",
    "높이가 4라면\n",
    "\n",
    "$${N} = {2}^{h}$$\n",
    "\n",
    "위의 식을 도출하는 것은 어렵지 않다. 위의 예시의 높이를 3으로 본다면, 아래와 같이 생각할 수 있다.  \n",
    "(최대 노드 수를 생각했을 때이다.)    \n",
    "\n",
    "$$\n",
    "\\text{if height = 1, } {N} = {2}^{1} + 1 \\newline\n",
    "\\text{if height = 2, } {N} = {2}^{2} + 1 \\newline\n",
    "\\text{if height = 3, } {N} = {2}^{3} + 1 \\newline\n",
    "\\text{...}\n",
    "$$\n",
    "\n",
    "### Big O\n",
    "\n",
    "높이가 3인 트리에서 최대 이동(swap)이 일어나는 경우, 3번의 이동이 생기므로 최악의 경우 `O(9) = 3`이 된다. \n",
    "높이와 복잡도가 같다고 할 수 있는데, `h`를 좌항으로 넣는 식을 만들면 아래와 같다:  \n",
    "\n",
    "$$\n",
    "{N} = {2}^{h} \\newline\n",
    "\\log_2{N} = \\log_2{2}^{h} \\newline\n",
    "\\log_2{N} = {h}\n",
    "$$\n",
    "\n",
    "혹은 높이를 4로 본다면 아래와 같다:  \n",
    "\n",
    "$$\n",
    "{N} = {2}^{h-1} + 1 \\newline\n",
    "\\log_2{N} = \\log_2{2}^{h-1} + 1 \\newline\n",
    "\\log_2{N} = {h-1} + 1 \\newline\n",
    "\\log_2{N} = {h}\n",
    "$$\n",
    "\n",
    "같은 결과가 나오는 것을 알 수 있다.  "
   ]
  },
  {
   "cell_type": "markdown",
   "metadata": {},
   "source": [
    "---\n",
    "\n",
    "## Read more\n",
    "\n",
    "- [python min heap](https://github.com/TheAlgorithms/Python/blob/master/data_structures/heap/min_heap.py)"
   ]
  }
 ],
 "metadata": {
  "interpreter": {
   "hash": "b0fa6594d8f4cbf19f97940f81e996739fb7646882a419484c72d19e05852a7e"
  },
  "kernelspec": {
   "display_name": "Python 3.9.8 64-bit",
   "language": "python",
   "name": "python3"
  },
  "language_info": {
   "codemirror_mode": {
    "name": "ipython",
    "version": 3
   },
   "file_extension": ".py",
   "mimetype": "text/x-python",
   "name": "python",
   "nbconvert_exporter": "python",
   "pygments_lexer": "ipython3",
   "version": "3.9.7"
  },
  "orig_nbformat": 4
 },
 "nbformat": 4,
 "nbformat_minor": 2
}
